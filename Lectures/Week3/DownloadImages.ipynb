{
 "cells": [
  {
   "cell_type": "markdown",
   "metadata": {},
   "source": [
    "# Downloading Data\n",
    "\n",
    "## Data Sources\n",
    "\n",
    "### Kaggle - [Dog and Cat images](https://www.kaggle.com/uysimty/keras-cnn-dog-or-cat-classification/data)\n",
    "  - Kaggle account *required*\n",
    "  - 25,000 images total... 12,500 cat, 12,500 dog\n",
    "  - about `1 GB` of images\n",
    "  - [Download Here]()\n"
   ]
  },
  {
   "cell_type": "markdown",
   "metadata": {},
   "source": [
    "### Google Images\n",
    "  - Image Downloader (more work)\n",
    "    - Google Chrome Required\n",
    "    - [Download Extension](https://chrome.google.com/webstore/detail/image-downloader/cnpniohnfphhjihaiiggeabnkjhpaldj)\n",
    "      - over 1,000,000 downloads\n",
    "  - Selenium (less work)\n",
    "    - Selenium Library and WebDriver Required (doesn't work on colab)\n",
    "    - [Install Selenium](https://www.selenium.dev/documentation/webdriver/getting_started/)\n",
    "      1. Install Selenium Library using `pip install selenium`\n",
    "      2. Download Selenium WebDriver"
   ]
  },
  {
   "cell_type": "markdown",
   "metadata": {},
   "source": [
    "## Selenium Example"
   ]
  },
  {
   "cell_type": "code",
   "execution_count": null,
   "metadata": {},
   "outputs": [],
   "source": [
    "!pip install selenium"
   ]
  },
  {
   "cell_type": "code",
   "execution_count": null,
   "metadata": {},
   "outputs": [],
   "source": [
    "from selenium import webdriver\n",
    "from bs4 import BeautifulSoup\n",
    "import urllib.request\n",
    "import time\n",
    "\n",
    "\n",
    "#taking user input\n",
    "print(\"What do you want to download?\")\n",
    "download = input()\n",
    "site = 'https://www.google.com/search?tbm=isch&q='+download\n",
    "\n",
    "\n",
    "#providing driver path\n",
    "driver = webdriver.Firefox(executable_path='C:\\\\Users\\\\kyle\\\\Development\\\\geckodriver.exe')\n",
    "\n",
    "#passing site url\n",
    "driver.get(site)\n",
    "\n",
    "\n",
    "#if you just want to download 10-15 images then skip the while loop and just write\n",
    "#driver.execute_script(\"window.scrollBy(0,document.body.scrollHeight)\")\n",
    "\n",
    "\n",
    "#below while loop scrolls the webpage 7 times(if available)\n",
    "\n",
    "i = 0\n",
    "\n",
    "while i<7:  \n",
    "\t#for scrolling page\n",
    "    driver.execute_script(\"window.scrollBy(0,document.body.scrollHeight)\")\n",
    "    \n",
    "    try:\n",
    "\t\t#for clicking show more results button\n",
    "        driver.find_element_by_xpath(\"/html/body/div[2]/c-wiz/div[3]/div[1]/div/div/div/div/div[5]/input\").click()\n",
    "    except Exception as e:\n",
    "        pass\n",
    "    time.sleep(5)\n",
    "    i+=1\n",
    "\n",
    "#parsing\n",
    "soup = BeautifulSoup(driver.page_source, 'html.parser')\n",
    "\n",
    "\n",
    "#closing web browser\n",
    "driver.close()\n",
    "\n",
    "\n",
    "#scraping image urls with the help of image tag and class used for images\n",
    "img_tags = soup.find_all(\"img\", class_=\"rg_i\")\n",
    "\n",
    "\n",
    "count = 0\n",
    "for i in img_tags:\n",
    "    #print(i['src'])\n",
    "    try:\n",
    "\t\t#passing image urls one by one and downloading\n",
    "        urllib.request.urlretrieve(i['src'], f\"./images/{download}/\" + str(count)+\".jpg\")\n",
    "        count+=1\n",
    "        print(\"Number of images downloaded = \"+str(count),end='\\r')\n",
    "    except Exception as e:\n",
    "        pass\n"
   ]
  },
  {
   "cell_type": "markdown",
   "metadata": {},
   "source": [
    "## Other Places\n",
    "  - Take your own pictures\n",
    "  - Use Bing... idk any image with a dog or cat works"
   ]
  },
  {
   "cell_type": "markdown",
   "metadata": {},
   "source": [
    "## Testing Image Downloads"
   ]
  },
  {
   "cell_type": "code",
   "execution_count": null,
   "metadata": {},
   "outputs": [],
   "source": [
    "import matplotlib.pyplot as plt  # https://matplotlib.org/stable/api/index\n",
    "import matplotlib.image as mpimg # https://matplotlib.org/stable/tutorials/introductory/images.html\n",
    "\n",
    "%matplotlib inline\n",
    "\n",
    "def show_image(image_path):\n",
    "    image = mpimg.imread(image_path)\n",
    "    print(image.shape)\n",
    "    plt.imshow(image)\n",
    "\n",
    "# Mac OS\n",
    "# show_image(\"./images/train/dog/dog.1.jpg\")\n",
    "\n",
    "# Windows\n",
    "show_image(\".\\\\images\\\\train\\\\dog\\\\dog.1.jpg\")\n"
   ]
  },
  {
   "cell_type": "code",
   "execution_count": null,
   "metadata": {},
   "outputs": [],
   "source": [
    "import os\n",
    "\n",
    "current_dir = os.path.abspath(\".\")\n",
    "any_os = os.path.join(current_dir, \"images\", \"train\", \"dog\", \"dog.1.jpg\")\n",
    "show_image(any_os)\n"
   ]
  }
 ],
 "metadata": {
  "interpreter": {
   "hash": "e5536dcff39019084073840e4bd2329c15250a25003f28fea8cd25b81d1e0b0b"
  },
  "kernelspec": {
   "display_name": "Python 3.8.5 64-bit ('base': conda)",
   "language": "python",
   "name": "python3"
  },
  "language_info": {
   "codemirror_mode": {
    "name": "ipython",
    "version": 3
   },
   "file_extension": ".py",
   "mimetype": "text/x-python",
   "name": "python",
   "nbconvert_exporter": "python",
   "pygments_lexer": "ipython3",
   "version": "3.8.5"
  },
  "orig_nbformat": 4
 },
 "nbformat": 4,
 "nbformat_minor": 2
}
