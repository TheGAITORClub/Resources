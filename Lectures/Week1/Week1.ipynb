{
 "cells": [
  {
   "cell_type": "markdown",
   "metadata": {},
   "source": [
    "# Introduction to  Python"
   ]
  },
  {
   "cell_type": "markdown",
   "metadata": {},
   "source": [
    "## Basic Python Introduction\n",
    "\n",
    "### Python Features\n",
    "\n",
    "- High-Level\n",
    "- Interpreted\n",
    "- Dynamically-Typed\n",
    "- Object-Oriented\n",
    "\n",
    "### How to open Notebook\n",
    "\n",
    "1. [Install Anaconda](https://www.anaconda.com/products/individual)\n",
    "2. [Install VSCode](https://code.visualstudio.com/download)\n",
    "3. Clone Repository and open in Visual Studio Code\n",
    "   1. `git clone https://github.com/TheGAITORClub/Resources`\n",
    "   2. In VSCode: File -> Open\n",
    "   3. *Then select cloned repo folder*\n",
    "4. From file explorer on the left, open `Lectures/Week1/Week1.ipynb`\n",
    "5. After opening the file on the top right corner\n",
    "   1. Select Kernel\n",
    "   2. Choose 'Conda Env' (on right side)\n",
    "\n",
    "### Common Keyboard Commands\n",
    "\n",
    "- Run Cell: 'shift + return'\n",
    "- Run Cell and insert below: 'option/alt + return'\n",
    "- Indent: 'tab'\n",
    "- Un-indent: 'shift + tab'\n",
    "- Undo: 'command/control + z'\n",
    "- Save File: 'command/control + s'\n",
    "- [More Shortcuts](https://towardsdatascience.com/jypyter-notebook-shortcuts-bf0101a98330)\n",
    "\n"
   ]
  },
  {
   "cell_type": "markdown",
   "metadata": {},
   "source": [
    "## Defining Variables"
   ]
  },
  {
   "cell_type": "code",
   "execution_count": 12,
   "metadata": {},
   "outputs": [],
   "source": [
    "var1 = 0 # that's it! type is inferred"
   ]
  },
  {
   "cell_type": "markdown",
   "metadata": {},
   "source": [
    "## Types"
   ]
  },
  {
   "cell_type": "markdown",
   "metadata": {},
   "source": [
    "### Numbers"
   ]
  },
  {
   "cell_type": "code",
   "execution_count": 26,
   "metadata": {},
   "outputs": [
    {
     "name": "stdout",
     "output_type": "stream",
     "text": [
      "num0 type:  <class 'int'>\n",
      "num1 type:  <class 'float'>\n",
      "num2 type:  <class 'complex'>\n",
      "num0:  0\n",
      "num1:  1.1\n",
      "num2:  (1+2j)\n"
     ]
    }
   ],
   "source": [
    "num0 = 0 # int\n",
    "print(\"num0 type: \", type(num0))\n",
    "\n",
    "num1 = 1.1 # float\n",
    "print(\"num1 type: \", type(num1))\n",
    "\n",
    "num2 = 1 + 2j # complex (not common)\n",
    "print(\"num2 type: \", type(num2))\n",
    "\n",
    "# Access\n",
    "print(\"num0: \", num0)\n",
    "print(\"num1: \", num1)\n",
    "print(\"num2: \", num2)\n",
    "\n",
    "# Update\n",
    "num0 = 1\n",
    "num1 = 1.2\n",
    "num2 = 2 + 2j\n",
    "\n",
    "# Delete (not common)\n",
    "del num0\n",
    "del num1\n",
    "del num2"
   ]
  },
  {
   "cell_type": "markdown",
   "metadata": {},
   "source": [
    "### Text"
   ]
  },
  {
   "cell_type": "code",
   "execution_count": 24,
   "metadata": {},
   "outputs": [
    {
     "name": "stdout",
     "output_type": "stream",
     "text": [
      "txt type:  <class 'str'>\n"
     ]
    },
    {
     "data": {
      "text/plain": [
       "'ac'"
      ]
     },
     "execution_count": 24,
     "metadata": {},
     "output_type": "execute_result"
    }
   ],
   "source": [
    "txt = \"abc123\" # str\n",
    "print(\"txt type: \", type(txt))\n",
    "\n",
    "# Access\n",
    "txt[0] # a\n",
    "txt[-1] # 3\n",
    "txt[0:3] # abc\n",
    "txt[0:3:2] # ac\n",
    "\n",
    "# Update\n",
    "# txt[0] = 'x' # will throw error (uncomment to see)\n",
    "\n",
    "# Delete\n",
    "# del txt[0] # will throw error (uncomment to see)"
   ]
  },
  {
   "cell_type": "markdown",
   "metadata": {},
   "source": [
    "### Sequences"
   ]
  },
  {
   "cell_type": "code",
   "execution_count": 27,
   "metadata": {},
   "outputs": [
    {
     "name": "stdout",
     "output_type": "stream",
     "text": [
      "arr type:  <class 'list'>\n",
      "tupl type:  <class 'tuple'>\n",
      "rng type:  <class 'range'>\n"
     ]
    }
   ],
   "source": [
    "arr = [1, 2, 3] # list\n",
    "print(\"arr type: \", type(arr))\n",
    "\n",
    "tupl = (1, 2, 3) # tuple\n",
    "print(\"tupl type: \", type(tupl))\n",
    "\n",
    "rng = range(10) # range (generator)\n",
    "print(\"rng type: \", type(rng))\n",
    "\n",
    "# Access\n",
    "arr[0] # 1\n",
    "arr[-1] # 3\n",
    "arr[0:3] # [1, 2, 3] [start:end]\n",
    "arr[0:3:2] # [1, 3] [start:end:step]\n",
    "\n",
    "# Update\n",
    "arr[0] = 0 # [0, 2, 3]\n",
    "\n",
    "# Delete\n",
    "del arr[0] # [2, 3]\n",
    "arr.pop() # [2], removes end\n",
    "arr.remove(2) # [], removes first occurrence of 2"
   ]
  },
  {
   "cell_type": "markdown",
   "metadata": {},
   "source": [
    "### Mapping"
   ]
  },
  {
   "cell_type": "code",
   "execution_count": 28,
   "metadata": {},
   "outputs": [
    {
     "name": "stdout",
     "output_type": "stream",
     "text": [
      "d type:  <class 'dict'>\n"
     ]
    }
   ],
   "source": [
    "d = {\n",
    "    \"a\": 1,\n",
    "    \"b\": 2\n",
    "} # dict\n",
    "\n",
    "# Access\n",
    "d['a'] # 1\n",
    "\n",
    "# Update\n",
    "d['a'] = 10 # { \"a\": 10, \"b\": 2 }\n",
    "\n",
    "# Delete\n",
    "del d['a'] # { \"b\": 2 }\n",
    "\n",
    "print(\"d type: \", type(d))"
   ]
  },
  {
   "cell_type": "markdown",
   "metadata": {},
   "source": [
    "### Set"
   ]
  },
  {
   "cell_type": "code",
   "execution_count": 29,
   "metadata": {},
   "outputs": [
    {
     "name": "stdout",
     "output_type": "stream",
     "text": [
      "ex_set type:  <class 'set'>\n"
     ]
    }
   ],
   "source": [
    "ex_set = set()\n",
    "ex_set.add(1)\n",
    "ex_set.add(2)\n",
    "ex_set.add(3)\n",
    "\n",
    "print(\"ex_set type: \", type(ex_set))"
   ]
  },
  {
   "cell_type": "markdown",
   "metadata": {},
   "source": [
    "## Numpy Introduction"
   ]
  },
  {
   "cell_type": "code",
   "execution_count": null,
   "metadata": {},
   "outputs": [],
   "source": []
  }
 ],
 "metadata": {
  "interpreter": {
   "hash": "e5536dcff39019084073840e4bd2329c15250a25003f28fea8cd25b81d1e0b0b"
  },
  "kernelspec": {
   "display_name": "Python 3.8.5 64-bit ('base': conda)",
   "language": "python",
   "name": "python3"
  },
  "language_info": {
   "codemirror_mode": {
    "name": "ipython",
    "version": 3
   },
   "file_extension": ".py",
   "mimetype": "text/x-python",
   "name": "python",
   "nbconvert_exporter": "python",
   "pygments_lexer": "ipython3",
   "version": "3.8.5"
  },
  "orig_nbformat": 4
 },
 "nbformat": 4,
 "nbformat_minor": 2
}
