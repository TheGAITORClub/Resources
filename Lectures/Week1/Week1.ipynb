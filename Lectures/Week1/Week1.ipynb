{
 "cells": [
  {
   "cell_type": "markdown",
   "metadata": {},
   "source": [
    "# Introduction to  Python"
   ]
  },
  {
   "cell_type": "markdown",
   "metadata": {},
   "source": [
    "## Basic Python Introduction\n",
    "\n",
    "### Python Features\n",
    "\n",
    "- High-Level\n",
    "- Interpreted\n",
    "- Dynamically-Typed\n",
    "- Object-Oriented\n",
    "\n",
    "### How to open Notebook\n",
    "\n",
    "1. [Install Anaconda](https://www.anaconda.com/products/individual)\n",
    "2. [Install VSCode](https://code.visualstudio.com/download)\n",
    "3. Clone Repository and open in Visual Studio Code\n",
    "   1. `git clone https://github.com/TheGAITORClub/Resources`\n",
    "   2. In VSCode: File -> Open\n",
    "   3. *Then select cloned repo folder*\n",
    "4. From file explorer on the left, open `Lectures/Week1/Week1.ipynb`\n",
    "5. After opening the file on the top right corner\n",
    "   1. Select Kernel\n",
    "   2. Choose 'Conda Env' (on right side)\n",
    "\n",
    "### Common Keyboard Commands\n",
    "\n",
    "- Run Cell: 'shift + return'\n",
    "- Run Cell and insert below: 'option/alt + return'\n",
    "- Indent: 'tab'\n",
    "- Un-indent: 'shift + tab'\n",
    "- Undo: 'command/control + z'\n",
    "- Save File: 'command/control + s'\n",
    "- [More Shortcuts](https://towardsdatascience.com/jypyter-notebook-shortcuts-bf0101a98330)\n",
    "\n"
   ]
  },
  {
   "cell_type": "markdown",
   "metadata": {},
   "source": [
    "## Defining Variables"
   ]
  },
  {
   "cell_type": "code",
   "execution_count": null,
   "metadata": {},
   "outputs": [],
   "source": [
    "var1 = 0 # that's it! type is inferred"
   ]
  },
  {
   "cell_type": "markdown",
   "metadata": {},
   "source": [
    "## Types\n",
    "\n",
    "### Numbers"
   ]
  },
  {
   "cell_type": "code",
   "execution_count": null,
   "metadata": {},
   "outputs": [],
   "source": [
    "num0 = 0 # int\n",
    "print(\"num0 type: \", type(num0))\n",
    "\n",
    "num1 = 1.1 # float\n",
    "print(\"num1 type: \", type(num1))\n",
    "\n",
    "num2 = 1 + 2j # complex (not common)\n",
    "print(\"num2 type: \", type(num2))\n",
    "\n",
    "# Access\n",
    "print(\"num0: \", num0)\n",
    "print(\"num1: \", num1)\n",
    "print(\"num2: \", num2)\n",
    "\n",
    "# Update\n",
    "num0 = 1\n",
    "num1 = 1.2\n",
    "num2 = 2 + 2j\n",
    "\n",
    "# Delete (not common)\n",
    "del num0\n",
    "del num1\n",
    "del num2"
   ]
  },
  {
   "cell_type": "markdown",
   "metadata": {},
   "source": [
    "### Text"
   ]
  },
  {
   "cell_type": "code",
   "execution_count": null,
   "metadata": {},
   "outputs": [],
   "source": [
    "txt = \"abc123\" # str\n",
    "print(\"txt type: \", type(txt))\n",
    "\n",
    "# Access\n",
    "txt[0] # a\n",
    "txt[-1] # 3\n",
    "txt[0:3] # abc\n",
    "txt[0:3:2] # ac\n",
    "\n",
    "# Update\n",
    "# txt[0] = 'x' # will throw error (uncomment to see)\n",
    "\n",
    "# Delete\n",
    "# del txt[0] # will throw error (uncomment to see)"
   ]
  },
  {
   "cell_type": "markdown",
   "metadata": {},
   "source": [
    "### Sequences"
   ]
  },
  {
   "cell_type": "code",
   "execution_count": null,
   "metadata": {},
   "outputs": [],
   "source": [
    "arr = [1, 2, 3] # list\n",
    "print(\"arr type: \", type(arr))\n",
    "\n",
    "tupl = (1, 2, 3) # tuple\n",
    "print(\"tupl type: \", type(tupl))\n",
    "\n",
    "rng = range(10) # range (generator)\n",
    "print(\"rng type: \", type(rng))\n",
    "\n",
    "# Access\n",
    "arr[0] # 1\n",
    "arr[-1] # 3\n",
    "arr[0:3] # [1, 2, 3] [start:end]\n",
    "arr[0:3:2] # [1, 3] [start:end:step]\n",
    "\n",
    "# Update\n",
    "arr[0] = 0 # [0, 2, 3]\n",
    "\n",
    "# Delete\n",
    "del arr[0] # [2, 3]\n",
    "arr.pop() # [2], removes end\n",
    "arr.remove(2) # [], removes first occurrence of 2"
   ]
  },
  {
   "cell_type": "markdown",
   "metadata": {},
   "source": [
    "### Mapping"
   ]
  },
  {
   "cell_type": "code",
   "execution_count": null,
   "metadata": {},
   "outputs": [],
   "source": [
    "d = {\n",
    "    \"a\": 1,\n",
    "    \"b\": 2\n",
    "} # dict\n",
    "\n",
    "# Access\n",
    "d['a'] # 1\n",
    "\n",
    "# Update\n",
    "d['a'] = 10 # { \"a\": 10, \"b\": 2 }\n",
    "\n",
    "# Delete\n",
    "del d['a'] # { \"b\": 2 }\n",
    "\n",
    "print(\"d type: \", type(d))"
   ]
  },
  {
   "cell_type": "markdown",
   "metadata": {},
   "source": [
    "### Set"
   ]
  },
  {
   "cell_type": "code",
   "execution_count": null,
   "metadata": {},
   "outputs": [],
   "source": [
    "ex_set = set()\n",
    "ex_set.add(1)\n",
    "ex_set.add(2)\n",
    "ex_set.add(3)\n",
    "\n",
    "print(\"ex_set type: \", type(ex_set))"
   ]
  },
  {
   "cell_type": "markdown",
   "metadata": {},
   "source": [
    "## Iterating\n",
    "\n",
    "### For Loops\n",
    "\n",
    "#### For Each"
   ]
  },
  {
   "cell_type": "code",
   "execution_count": 63,
   "metadata": {},
   "outputs": [
    {
     "name": "stdout",
     "output_type": "stream",
     "text": [
      "0\n",
      "1\n",
      "2\n"
     ]
    }
   ],
   "source": [
    "for i in [0, 1, 2]:\n",
    "    print(i)"
   ]
  },
  {
   "cell_type": "markdown",
   "metadata": {},
   "source": [
    "#### For Loops Using Range"
   ]
  },
  {
   "cell_type": "code",
   "execution_count": 64,
   "metadata": {},
   "outputs": [
    {
     "name": "stdout",
     "output_type": "stream",
     "text": [
      "0\n",
      "1\n",
      "2\n"
     ]
    }
   ],
   "source": [
    "for i in range(3):\n",
    "    print(i)"
   ]
  },
  {
   "cell_type": "markdown",
   "metadata": {},
   "source": [
    "#### Continue vs Break"
   ]
  },
  {
   "cell_type": "code",
   "execution_count": 67,
   "metadata": {},
   "outputs": [
    {
     "name": "stdout",
     "output_type": "stream",
     "text": [
      "Start continue\n",
      "0\n",
      "2\n",
      "Start break\n",
      "0\n"
     ]
    }
   ],
   "source": [
    "print(\"Start continue\")\n",
    "for i in range(3):\n",
    "    if i == 1:\n",
    "        continue\n",
    "    print(i)\n",
    "\n",
    "print(\"Start break\")\n",
    "\n",
    "for i in range(3):\n",
    "    if i == 1:\n",
    "        break\n",
    "    print(i)"
   ]
  },
  {
   "cell_type": "markdown",
   "metadata": {},
   "source": [
    "### While Loops"
   ]
  },
  {
   "cell_type": "code",
   "execution_count": 66,
   "metadata": {},
   "outputs": [
    {
     "name": "stdout",
     "output_type": "stream",
     "text": [
      "Hello\n"
     ]
    }
   ],
   "source": [
    "while True:\n",
    "    print(\"Hello\")\n",
    "    break"
   ]
  },
  {
   "cell_type": "markdown",
   "metadata": {},
   "source": [
    "# Numpy Introduction\n",
    "\n",
    "*Hint: to view environment variables click the 'Variables' button in the top bar of the Notebook*"
   ]
  },
  {
   "cell_type": "code",
   "execution_count": 42,
   "metadata": {},
   "outputs": [],
   "source": [
    "# This cell should work if you chose 'Conda Env'\n",
    "import numpy as np"
   ]
  },
  {
   "cell_type": "code",
   "execution_count": 69,
   "metadata": {},
   "outputs": [],
   "source": [
    "# Making np.array from list\n",
    "arr = np.array([1, 2, 3, 4, 5, 6, 7, 8, 9, 10])\n",
    "\n",
    "# Generate a random array with 10 entries\n",
    "arr1D = np.random.rand(10)\n",
    "# arr1D"
   ]
  },
  {
   "cell_type": "code",
   "execution_count": 49,
   "metadata": {},
   "outputs": [],
   "source": [
    "# Generate a random 5 row, 4 col 2D array\n",
    "arr2D = np.random.rand(5, 4)\n",
    "# arr2D"
   ]
  },
  {
   "cell_type": "code",
   "execution_count": 50,
   "metadata": {},
   "outputs": [],
   "source": [
    "# Generate a random 5x4x3 3D array\n",
    "arr3D = np.random.rand(5, 4, 3)\n",
    "# arr3D"
   ]
  },
  {
   "cell_type": "code",
   "execution_count": 51,
   "metadata": {},
   "outputs": [
    {
     "data": {
      "text/plain": [
       "3"
      ]
     },
     "execution_count": 51,
     "metadata": {},
     "output_type": "execute_result"
    }
   ],
   "source": [
    "# Get Dimensions of the arrays\n",
    "arr1D.ndim # 1\n",
    "arr2D.ndim # 2\n",
    "arr3D.ndim # 3"
   ]
  },
  {
   "cell_type": "code",
   "execution_count": 53,
   "metadata": {},
   "outputs": [
    {
     "data": {
      "text/plain": [
       "(5, 4, 3)"
      ]
     },
     "execution_count": 53,
     "metadata": {},
     "output_type": "execute_result"
    }
   ],
   "source": [
    "# Get Shape of the arrays\n",
    "arr1D.shape # (10,)\n",
    "arr2D.shape # (5, 4)\n",
    "arr3D.shape # (5, 4, 3)"
   ]
  },
  {
   "cell_type": "code",
   "execution_count": 71,
   "metadata": {},
   "outputs": [],
   "source": [
    "# Generate two random arrays with 10 entries then add them together\n",
    "arr1 = np.array([10, 20, 30])\n",
    "arr2 = np.array([1, 2, 3])\n",
    "\n",
    "# array (operation) array examples\n",
    "addition = arr1 + arr2\n",
    "subtraction = arr1 - arr2\n",
    "multiplication = arr1 * arr2\n",
    "division = arr1 / arr2\n",
    "\n",
    "# array (operation) scalar examples\n",
    "scalar_addition = arr1 + 2\n",
    "scalar_subtraction = arr1 - 2\n",
    "scalar_multiplication = arr1 * 2\n",
    "scalar_division = arr1 / 2\n"
   ]
  },
  {
   "cell_type": "markdown",
   "metadata": {},
   "source": [
    "## Pandas Introduction"
   ]
  },
  {
   "cell_type": "code",
   "execution_count": null,
   "metadata": {},
   "outputs": [],
   "source": []
  },
  {
   "cell_type": "markdown",
   "metadata": {},
   "source": []
  }
 ],
 "metadata": {
  "interpreter": {
   "hash": "e5536dcff39019084073840e4bd2329c15250a25003f28fea8cd25b81d1e0b0b"
  },
  "kernelspec": {
   "display_name": "Python 3.8.5 64-bit ('base': conda)",
   "language": "python",
   "name": "python3"
  },
  "language_info": {
   "codemirror_mode": {
    "name": "ipython",
    "version": 3
   },
   "file_extension": ".py",
   "mimetype": "text/x-python",
   "name": "python",
   "nbconvert_exporter": "python",
   "pygments_lexer": "ipython3",
   "version": "3.8.5"
  },
  "orig_nbformat": 4
 },
 "nbformat": 4,
 "nbformat_minor": 2
}
