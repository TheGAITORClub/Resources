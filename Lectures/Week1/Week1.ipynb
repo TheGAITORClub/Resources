{
  "cells": [
    {
      "cell_type": "markdown",
      "metadata": {
        "id": "i-Rkvy89iCHo"
      },
      "source": [
        "# Introduction to  Python"
      ]
    },
    {
      "cell_type": "markdown",
      "metadata": {
        "id": "lxDfPShEiCHq"
      },
      "source": [
        "## Basic Python Introduction\n",
        "\n",
        "### Python Features\n",
        "\n",
        "- High-Level\n",
        "- Scripting\n",
        "- Interpreted\n",
        "- Dynamically-Typed\n",
        "- Object-Oriented\n",
        "\n",
        "### How to open Notebook in VSCode\n",
        "\n",
        "1. [Install Anaconda](https://www.anaconda.com/products/individual)\n",
        "  1. Download and install Anaconda, then open the app it installed\n",
        "  2. When it opens, press \"Jupyter Notebook\"\n",
        "2. [Install VSCode](https://code.visualstudio.com/download)\n",
        "3. Clone Repository and open in Visual Studio Code\n",
        "   1. `git clone https://github.com/TheGAITORClub/Resources`\n",
        "   2. In VSCode: File -> Open\n",
        "   3. *Then select cloned repo folder*\n",
        "4. From file explorer on the left, open `Lectures/Week1/Week1.ipynb`\n",
        "5. After opening the file on the top right corner\n",
        "   1. Select Kernel\n",
        "   2. Choose 'Suggested' (on right side)\n",
        "   3. Run `pip install -r requirements.txt`\n",
        "\n",
        "\n",
        "### How to open in Google Colab\n",
        "\n",
        "1. Download the Notebook File from GitHub ()[]\n",
        "\n",
        "### Common Keyboard Commands\n",
        "\n",
        "- Run Cell: 'shift + return'\n",
        "- Run Cell and insert below: 'option/alt + return'\n",
        "- Indent: 'tab'\n",
        "- Un-indent: 'shift + tab'\n",
        "- Undo: 'command/control + z'\n",
        "- Save File: 'command/control + s'\n",
        "- [More Shortcuts](https://towardsdatascience.com/jypyter-notebook-shortcuts-bf0101a98330)\n",
        "\n",
        "### More Information on Python\n",
        "\n",
        "- [Suggested YT Video](https://www.youtube.com/watch?v=kqtD5dpn9C8) - 3.4 million views, 93K likes\n",
        "- [Dr. Silva Link](https://jakevdp.github.io/WhirlwindTourOfPython/) - Textbook\n"
      ]
    },
    {
      "cell_type": "markdown",
      "metadata": {
        "id": "A77C4HqPiCHr"
      },
      "source": [
        "## Defining Variables"
      ]
    },
    {
      "cell_type": "code",
      "execution_count": null,
      "metadata": {
        "id": "Yiuyepj-iCHr"
      },
      "outputs": [],
      "source": [
        "var1 = 0 # that's it! type is inferred"
      ]
    },
    {
      "cell_type": "markdown",
      "metadata": {
        "id": "rUz9Wk0xSA7B"
      },
      "source": [
        ""
      ]
    },
    {
      "cell_type": "markdown",
      "metadata": {
        "id": "M8lrkjmsiCHs"
      },
      "source": [
        "## Types\n",
        "\n",
        "### Numbers"
      ]
    },
    {
      "cell_type": "code",
      "execution_count": null,
      "metadata": {
        "id": "Rp4QCzPeiCHs"
      },
      "outputs": [],
      "source": [
        "num0 = 0 # int\n",
        "print(\"num0 type: \", type(num0))\n",
        "\n",
        "num1 = 1.1 # float\n",
        "print(\"num1 type: \", type(num1))\n",
        "\n",
        "num2 = 1 + 2j # complex (not common)\n",
        "print(\"num2 type: \", type(num2))\n",
        "\n",
        "# Access\n",
        "print(\"num0: \", num0)\n",
        "print(\"num1: \", num1)\n",
        "print(\"num2: \", num2)\n",
        "\n",
        "# Update\n",
        "num0 = 1\n",
        "num1 = 1.2\n",
        "num2 = 2 + 2j # just use arrays lol\n",
        "\n",
        "# Delete (not common)\n",
        "del num0\n",
        "del num1\n",
        "del num2"
      ]
    },
    {
      "cell_type": "markdown",
      "metadata": {
        "id": "osvsUYebiCHt"
      },
      "source": [
        "### Text\n",
        "\n",
        "String (str) -> List of characters"
      ]
    },
    {
      "cell_type": "code",
      "execution_count": null,
      "metadata": {
        "id": "Snx4y_DtiCHt"
      },
      "outputs": [],
      "source": [
        "txt = \"abc123\" # str\n",
        "print(\"txt type: \", type(txt))\n",
        "\n",
        "# Access\n",
        "txt[0] # a\n",
        "txt[-1] # 3\n",
        "txt[0:3] # abc\n",
        "txt[0:3:2] # ac\n",
        "\n",
        "# Update\n",
        "# txt[0] = 'x' # will throw error (uncomment to see)\n",
        "\n",
        "# Delete\n",
        "# del txt[0] # will throw error (uncomment to see)\n",
        "\n",
        "# Strings can be modified entirely\n",
        "txt = \"xyz789\"\n",
        "txt\n",
        "\n",
        "# CHALLENGE: make a string with your name and print -> \"Hello, my name is _________\"\n"
      ]
    },
    {
      "cell_type": "markdown",
      "metadata": {
        "id": "tznqJk6JiCHu"
      },
      "source": [
        "### Sequences"
      ]
    },
    {
      "cell_type": "code",
      "execution_count": 1,
      "metadata": {
        "id": "AE4k0nYgiCHu",
        "colab": {
          "base_uri": "https://localhost:8080/"
        },
        "outputId": "43490602-f7a2-4958-b8b2-2b7084297298"
      },
      "outputs": [
        {
          "output_type": "stream",
          "name": "stdout",
          "text": [
            "arr type:  <class 'list'>\n",
            "tupl type:  <class 'tuple'>\n",
            "rng type:  <class 'range'>\n"
          ]
        }
      ],
      "source": [
        "arr = [1, 2, 3] # list\n",
        "print(\"arr type: \", type(arr))\n",
        "\n",
        "tupl = (1, 2, 3) # tuple\n",
        "print(\"tupl type: \", type(tupl))\n",
        "\n",
        "rng = range(10) # range (generator)\n",
        "print(\"rng type: \", type(rng))\n",
        "\n",
        "# Access\n",
        "arr[0] # 1\n",
        "arr[-1] # 3\n",
        "arr[0:3] # [1, 2, 3] [start:end]\n",
        "arr[0:3:2] # [1, 3] [start:end:step]\n",
        "\n",
        "# Update\n",
        "arr[0] = 0 # [0, 2, 3]\n",
        "\n",
        "# Delete\n",
        "del arr[0] # [2, 3]\n",
        "arr.pop() # 3 (removes last)\n",
        "arr.remove(2) # [], removes first occurrence of 2"
      ]
    },
    {
      "cell_type": "code",
      "source": [
        "# CHALLENEGE: Add a entry to arr using the .push() method\n",
        "\n",
        "\n",
        "arr"
      ],
      "metadata": {
        "id": "A_xJxG3lmrHA"
      },
      "execution_count": 2,
      "outputs": []
    },
    {
      "cell_type": "code",
      "source": [
        "# CHALLENGE: Remove the number you added\n",
        "\n",
        "\n",
        "arr"
      ],
      "metadata": {
        "id": "l3P60H4YnBtV"
      },
      "execution_count": null,
      "outputs": []
    },
    {
      "cell_type": "markdown",
      "metadata": {
        "id": "oKMkkjiSiCHv"
      },
      "source": [
        "### Mapping"
      ]
    },
    {
      "cell_type": "code",
      "execution_count": null,
      "metadata": {
        "id": "pEvDGnD-iCHv"
      },
      "outputs": [],
      "source": [
        "d = {\n",
        "    \"Kyle\": 20,\n",
        "    \"Cole\": 21\n",
        "} # dict\n",
        "\n",
        "# Access\n",
        "d['Kyle'] # 1\n",
        "\n",
        "# Update\n",
        "d['Kyle'] = 10 # { \"Kyle\": 10, \"Cole\": 2 }\n",
        "\n",
        "# CHALLENGE: Add yourself to the dictionary\n",
        "\n",
        "\n",
        "print(d)"
      ]
    },
    {
      "cell_type": "markdown",
      "metadata": {
        "id": "jPG3TMYCiCHv"
      },
      "source": [
        "### Set"
      ]
    },
    {
      "cell_type": "code",
      "execution_count": null,
      "metadata": {
        "id": "4vSSwO1ViCHv"
      },
      "outputs": [],
      "source": [
        "ex_set = set()\n",
        "ex_set.add(1)\n",
        "ex_set.add(2)\n",
        "ex_set.add(3)\n",
        "ex_set.add(2)\n",
        "\n",
        "# CHALLENGE: Add a number to the set\n",
        "\n",
        "\n",
        "print(\"ex_set type: \", type(ex_set))\n",
        "ex_set"
      ]
    },
    {
      "cell_type": "markdown",
      "metadata": {
        "id": "NCZCzUoBiCHv"
      },
      "source": [
        "## Iterating\n",
        "\n",
        "### For Loops\n",
        "\n",
        "#### For Each"
      ]
    },
    {
      "cell_type": "code",
      "execution_count": null,
      "metadata": {
        "id": "UIPAFImziCHw"
      },
      "outputs": [],
      "source": [
        "for i in [0, 1, 2]:\n",
        "    print(i)"
      ]
    },
    {
      "cell_type": "markdown",
      "metadata": {
        "id": "mWz8HjP3iCHw"
      },
      "source": [
        "#### For Loops Using Range"
      ]
    },
    {
      "cell_type": "code",
      "execution_count": null,
      "metadata": {
        "id": "pctk9Yn_iCHw"
      },
      "outputs": [],
      "source": [
        "for i in range(3):\n",
        "    print(i)"
      ]
    },
    {
      "cell_type": "code",
      "execution_count": null,
      "metadata": {
        "id": "J9lZFGJ4ijp8"
      },
      "outputs": [],
      "source": [
        "for a in range(1, 7):\n",
        "  out = \"\"\n",
        "  for b in range(1, a+1): # range(a)\n",
        "    out += \"*\"\n",
        "  print(out)"
      ]
    },
    {
      "cell_type": "markdown",
      "metadata": {
        "id": "YjTyUDRNiCHw"
      },
      "source": [
        "#### Continue vs Break"
      ]
    },
    {
      "cell_type": "code",
      "execution_count": null,
      "metadata": {
        "id": "L9IwU2seiCHw"
      },
      "outputs": [],
      "source": [
        "for i in range(3):\n",
        "    if i == 1:\n",
        "        continue\n",
        "    print(i)"
      ]
    },
    {
      "cell_type": "code",
      "execution_count": null,
      "metadata": {
        "id": "bs_qrELFmW9l"
      },
      "outputs": [],
      "source": [
        "for i in range(3):\n",
        "    if i == 1:\n",
        "        break\n",
        "    print(i)"
      ]
    },
    {
      "cell_type": "markdown",
      "metadata": {
        "id": "q0EWHq4tiCHx"
      },
      "source": [
        "### While Loops"
      ]
    },
    {
      "cell_type": "code",
      "execution_count": null,
      "metadata": {
        "id": "PdFDn_w9iCHx"
      },
      "outputs": [],
      "source": [
        "while True:\n",
        "    print(\"Hello\")\n",
        "    break"
      ]
    },
    {
      "cell_type": "code",
      "execution_count": null,
      "metadata": {
        "id": "u2tlTqvmPNUJ"
      },
      "outputs": [],
      "source": [
        "# HARD CHALLENGE: Write a program that prints out all of the primes between 1 to some n\n",
        "\n",
        "n = 1000\n",
        "\n",
        "# Write code here :)\n"
      ]
    },
    {
      "cell_type": "markdown",
      "metadata": {
        "id": "wxYhP7y6mW9m"
      },
      "source": [
        "<details>\n",
        "\n",
        "<summary>Show Answer</summary>\n",
        "\n",
        "```python\n",
        "current = 1\n",
        "while current < n:\n",
        "  if current == 1:\n",
        "    print(current, end=\" \")\n",
        "    current += 1\n",
        "    continue\n",
        "\n",
        "  isPrime = True\n",
        "  for i in range(2, current):\n",
        "    if current % i == 0:\n",
        "      isPrime = False\n",
        "      break\n",
        "  \n",
        "  if isPrime == True:\n",
        "    print(current, end=\" \")\n",
        "    \n",
        "  current += 1\n",
        "```\n",
        "</details>"
      ]
    },
    {
      "cell_type": "markdown",
      "metadata": {
        "id": "AH-M-w6RiCHx"
      },
      "source": [
        "# Numpy Introduction\n",
        "\n",
        "*Hint: to view environment variables click the 'Variables' button in the top bar of the Notebook*"
      ]
    },
    {
      "cell_type": "code",
      "execution_count": null,
      "metadata": {
        "id": "3hTnJcDFiCHx"
      },
      "outputs": [],
      "source": [
        "# This cell should work if you chose 'Conda Env'\n",
        "import numpy as np"
      ]
    },
    {
      "cell_type": "code",
      "execution_count": null,
      "metadata": {
        "id": "BIJLisMfiCHx"
      },
      "outputs": [],
      "source": [
        "# Making np.array from list\n",
        "arr = np.array([1, 2, 3, 4, 5, 6, 7, 8, 9, 10])\n",
        "\n",
        "# Generate a random array with 10 entries\n",
        "arr1D = np.random.rand(10)\n",
        "# arr1D"
      ]
    },
    {
      "cell_type": "code",
      "execution_count": null,
      "metadata": {
        "id": "0OpHwtvsiCHx"
      },
      "outputs": [],
      "source": [
        "# Generate a random 5 row, 4 col 2D array\n",
        "arr2D = np.random.rand(5, 4)\n",
        "# arr2D"
      ]
    },
    {
      "cell_type": "code",
      "execution_count": null,
      "metadata": {
        "id": "AQExYLmMiCHx"
      },
      "outputs": [],
      "source": [
        "# Generate a random 5x4x3 3D array\n",
        "arr3D = np.random.rand(5, 4, 3)\n",
        "# arr3D"
      ]
    },
    {
      "cell_type": "code",
      "execution_count": null,
      "metadata": {
        "id": "GBQnLrxuiCHx"
      },
      "outputs": [],
      "source": [
        "# Get Dimensions of the arrays\n",
        "arr1D.ndim # 1\n",
        "arr2D.ndim # 2\n",
        "arr3D.ndim # 3"
      ]
    },
    {
      "cell_type": "code",
      "execution_count": null,
      "metadata": {
        "id": "G10BI7k5iCHy"
      },
      "outputs": [],
      "source": [
        "# Get Shape of the arrays\n",
        "arr1D.shape # (10,)\n",
        "arr2D.shape # (5, 4)\n",
        "arr3D.shape # (5, 4, 3)"
      ]
    },
    {
      "cell_type": "code",
      "execution_count": null,
      "metadata": {
        "id": "YS9QFxwYiCHy"
      },
      "outputs": [],
      "source": [
        "# Generate two random arrays with 10 entries then add them together\n",
        "arr1 = np.array([10, 20, 30])\n",
        "arr2 = np.array([1, 2, 3])\n",
        "arr3 = np.concatenate([arr1, arr2])\n",
        "\n",
        "# array (operation) array examples\n",
        "addition = arr1 + arr2\n",
        "subtraction = arr1 - arr2\n",
        "multiplication = arr1 * arr2\n",
        "division = arr1 / arr2\n",
        "\n",
        "# array (operation) scalar examples\n",
        "scalar_addition = arr1 + 2\n",
        "scalar_subtraction = arr1 - 2\n",
        "scalar_multiplication = arr1 * 2\n",
        "scalar_division = arr1 / 2\n"
      ]
    },
    {
      "cell_type": "code",
      "execution_count": null,
      "metadata": {
        "id": "ZWGs8BD-UPsb"
      },
      "outputs": [],
      "source": [
        "import example_class # import stuffs\n",
        "\n",
        "a = example_class.Example(\"test\")\n",
        "a.p()"
      ]
    },
    {
      "cell_type": "markdown",
      "metadata": {
        "id": "BnTNJWh3iCHy"
      },
      "source": [
        "# Pandas Introduction (Next Lecture)\n",
        "\n",
        "## Next Lecture\n",
        "\n"
      ]
    },
    {
      "cell_type": "markdown",
      "metadata": {
        "id": "aFPY57ETiCHy"
      },
      "source": [
        "## Useful Resources\n",
        "\n",
        "- [Pandas Compared to SQL](https://pandas.pydata.org/docs/getting_started/comparison/comparison_with_sql.html)\n",
        "- [Other Pandas Comparisons](https://pandas.pydata.org/docs/getting_started/comparison/index.html)\n",
        "- [Intro to Pandas YouTube](https://www.youtube.com/watch?v=e60ItwlZTKM&ab_channel=JoeJames)\n",
        "  - This explains pandas in a much more succinct and accurate way than I can"
      ]
    },
    {
      "cell_type": "markdown",
      "metadata": {
        "id": "i5TFIqeJiCHy"
      },
      "source": [
        "## Loading a DataFrame"
      ]
    },
    {
      "cell_type": "code",
      "execution_count": null,
      "metadata": {
        "id": "2phqwyMqiCHy"
      },
      "outputs": [],
      "source": [
        "import pandas as pd"
      ]
    },
    {
      "cell_type": "code",
      "execution_count": null,
      "metadata": {
        "id": "RVdYoZkViCHy"
      },
      "outputs": [],
      "source": [
        ""
      ]
    }
  ],
  "metadata": {
    "colab": {
      "collapsed_sections": [],
      "name": "Copy_of_Week1.ipynb",
      "provenance": []
    },
    "interpreter": {
      "hash": "e5536dcff39019084073840e4bd2329c15250a25003f28fea8cd25b81d1e0b0b"
    },
    "kernelspec": {
      "display_name": "Python 3.8.5 64-bit ('base': conda)",
      "language": "python",
      "name": "python3"
    },
    "language_info": {
      "codemirror_mode": {
        "name": "ipython",
        "version": 3
      },
      "file_extension": ".py",
      "mimetype": "text/x-python",
      "name": "python",
      "nbconvert_exporter": "python",
      "pygments_lexer": "ipython3",
      "version": "3.8.5"
    },
    "orig_nbformat": 4
  },
  "nbformat": 4,
  "nbformat_minor": 0
}