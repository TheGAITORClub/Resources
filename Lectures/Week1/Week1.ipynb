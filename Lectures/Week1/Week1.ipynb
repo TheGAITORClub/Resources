{
  "cells": [
    {
      "cell_type": "markdown",
      "metadata": {
        "id": "i-Rkvy89iCHo"
      },
      "source": [
        "# Introduction to  Python"
      ]
    },
    {
      "cell_type": "markdown",
      "metadata": {
        "id": "lxDfPShEiCHq"
      },
      "source": [
        "## Basic Python Introduction\n",
        "\n",
        "### Python Features\n",
        "\n",
        "- High-Level\n",
        "- Scripting\n",
        "- Interpreted\n",
        "- Dynamically-Typed\n",
        "- Object-Oriented\n",
        "\n",
        "### How to open Notebook in VSCode\n",
        "\n",
        "1. [Install Anaconda](https://www.anaconda.com/products/individual)\n",
        "   1. Download and install Anaconda\n",
        "   2. Open the installer and step through (all defaults)\n",
        "2. [Install VSCode](https://code.visualstudio.com/download)\n",
        "3. Clone Repository and open in Visual Studio Code\n",
        "   1. `git clone https://github.com/TheGAITORClub/Resources`\n",
        "   2. In VSCode: File -> Open\n",
        "   3. *Then select cloned repo folder*\n",
        "4. From file explorer on the left, open `Lectures/Week1/Week1.ipynb`\n",
        "5. After opening the file on the top right corner\n",
        "   1. Select Kernel\n",
        "   2. Choose 'Suggested' (on right side)\n",
        "   3. Run `pip install -r requirements.txt` (should be installed alerady if Anaconda)\n",
        "\n",
        "\n",
        "### How to open in Google Colab (Reccomended)\n",
        "\n",
        "1. Download the Notebook File from GitHub **TODO**\n",
        "2. Go to Google Drive and Upload the file\n",
        "3. Open the file once uploaded\n",
        "\n",
        "### Common Keyboard Commands\n",
        "\n",
        "- Run Cell: 'shift + return/enter'\n",
        "- Run Cell and insert below: 'option/alt + return'\n",
        "- Indent: 'tab'\n",
        "- Un-indent: 'shift + tab'\n",
        "- Undo: 'command/control + z'\n",
        "- Save File: 'command/control + s'\n",
        "- [More Shortcuts](https://towardsdatascience.com/jypyter-notebook-shortcuts-bf0101a98330)\n",
        "\n",
        "### More Information on Python\n",
        "\n",
        "- [Dr. Silva Link]()\n",
        "- [Suggested YT Video]()\n"
      ]
    },
    {
      "cell_type": "markdown",
      "metadata": {
        "id": "A77C4HqPiCHr"
      },
      "source": [
        "## Defining Variables"
      ]
    },
    {
      "cell_type": "code",
      "execution_count": null,
      "metadata": {
        "id": "Yiuyepj-iCHr"
      },
      "outputs": [],
      "source": []
    },
    {
      "cell_type": "markdown",
      "metadata": {
        "id": "M8lrkjmsiCHs"
      },
      "source": [
        "## Types\n",
        "\n",
        "### Numbers"
      ]
    },
    {
      "cell_type": "code",
      "execution_count": null,
      "metadata": {
        "id": "Rp4QCzPeiCHs"
      },
      "outputs": [],
      "source": []
    },
    {
      "cell_type": "markdown",
      "metadata": {
        "id": "osvsUYebiCHt"
      },
      "source": [
        "### Text"
      ]
    },
    {
      "cell_type": "code",
      "execution_count": null,
      "metadata": {
        "id": "Snx4y_DtiCHt"
      },
      "outputs": [],
      "source": []
    },
    {
      "cell_type": "markdown",
      "metadata": {
        "id": "tznqJk6JiCHu"
      },
      "source": [
        "### Sequences"
      ]
    },
    {
      "cell_type": "code",
      "execution_count": null,
      "metadata": {
        "id": "AE4k0nYgiCHu"
      },
      "outputs": [],
      "source": []
    },
    {
      "cell_type": "markdown",
      "metadata": {
        "id": "oKMkkjiSiCHv"
      },
      "source": [
        "### Mapping"
      ]
    },
    {
      "cell_type": "code",
      "execution_count": null,
      "metadata": {
        "id": "pEvDGnD-iCHv"
      },
      "outputs": [],
      "source": []
    },
    {
      "cell_type": "markdown",
      "metadata": {
        "id": "jPG3TMYCiCHv"
      },
      "source": [
        "### Set"
      ]
    },
    {
      "cell_type": "code",
      "execution_count": null,
      "metadata": {
        "id": "4vSSwO1ViCHv"
      },
      "outputs": [],
      "source": []
    },
    {
      "cell_type": "markdown",
      "metadata": {
        "id": "NCZCzUoBiCHv"
      },
      "source": [
        "## Iterating\n",
        "\n",
        "### For Loops\n",
        "\n",
        "#### For Each"
      ]
    },
    {
      "cell_type": "code",
      "execution_count": null,
      "metadata": {
        "id": "UIPAFImziCHw"
      },
      "outputs": [],
      "source": []
    },
    {
      "cell_type": "markdown",
      "metadata": {
        "id": "mWz8HjP3iCHw"
      },
      "source": [
        "#### For Loops Using Range"
      ]
    },
    {
      "cell_type": "code",
      "execution_count": null,
      "metadata": {
        "id": "pctk9Yn_iCHw"
      },
      "outputs": [],
      "source": []
    },
    {
      "cell_type": "code",
      "execution_count": null,
      "metadata": {
        "id": "J9lZFGJ4ijp8"
      },
      "outputs": [],
      "source": [
        "# print a pyramid of stars"
      ]
    },
    {
      "cell_type": "markdown",
      "metadata": {
        "id": "YjTyUDRNiCHw"
      },
      "source": [
        "#### Continue vs Break"
      ]
    },
    {
      "cell_type": "code",
      "execution_count": null,
      "metadata": {
        "id": "L9IwU2seiCHw"
      },
      "outputs": [],
      "source": []
    },
    {
      "cell_type": "markdown",
      "metadata": {
        "id": "q0EWHq4tiCHx"
      },
      "source": [
        "### While Loops"
      ]
    },
    {
      "cell_type": "code",
      "execution_count": null,
      "metadata": {
        "id": "PdFDn_w9iCHx"
      },
      "outputs": [],
      "source": [
        "# find all primes until n"
      ]
    },
    {
      "cell_type": "markdown",
      "metadata": {
        "id": "3MqR1DPPpCL4"
      },
      "source": [
        "## Classes"
      ]
    },
    {
      "cell_type": "markdown",
      "metadata": {
        "id": "gUmgDAQBpIM9"
      },
      "source": [
        "## What are classes?\n",
        "\n",
        "**TO THE WHITEBOARD!**\n",
        "\n",
        "### Quick Check\n",
        "\n",
        "- What is an abstraction? \n",
        "- How are classes related to objects?\n"
      ]
    },
    {
      "cell_type": "markdown",
      "metadata": {
        "id": "VSPct7H3vI2Z"
      },
      "source": [
        "### Example"
      ]
    },
    {
      "cell_type": "code",
      "execution_count": null,
      "metadata": {
        "id": "QoCj3i7-paCk"
      },
      "outputs": [],
      "source": [
        "# Make a Person Class"
      ]
    },
    {
      "cell_type": "code",
      "execution_count": null,
      "metadata": {
        "id": "v6CDNMJJq0FS"
      },
      "outputs": [],
      "source": [
        "# Make a Course Class"
      ]
    },
    {
      "cell_type": "code",
      "execution_count": null,
      "metadata": {
        "id": "VhhSqP1zwW-K"
      },
      "outputs": [],
      "source": [
        "# Make a Student Class"
      ]
    },
    {
      "cell_type": "code",
      "execution_count": null,
      "metadata": {
        "id": "Be2fAwhwwpFP"
      },
      "outputs": [],
      "source": [
        "# Make objects using the classes"
      ]
    },
    {
      "cell_type": "code",
      "execution_count": null,
      "metadata": {
        "id": "bQAAgddzqyl7"
      },
      "outputs": [],
      "source": [
        "# Enroll a student in courses"
      ]
    },
    {
      "cell_type": "markdown",
      "metadata": {
        "id": "AH-M-w6RiCHx"
      },
      "source": [
        "# Numpy Introduction\n",
        "\n",
        "*Hint: to view environment variables click the 'Variables' button in the top bar of the Notebook*"
      ]
    },
    {
      "cell_type": "code",
      "execution_count": null,
      "metadata": {
        "id": "3hTnJcDFiCHx"
      },
      "outputs": [],
      "source": []
    },
    {
      "cell_type": "markdown",
      "metadata": {
        "id": "BnTNJWh3iCHy"
      },
      "source": [
        "# Pandas Introduction\n",
        "\n",
        "## Next Lecture\n",
        "\n"
      ]
    },
    {
      "cell_type": "markdown",
      "metadata": {
        "id": "aFPY57ETiCHy"
      },
      "source": [
        "## Useful Resources\n",
        "\n",
        "- [Pandas Compared to SQL](https://pandas.pydata.org/docs/getting_started/comparison/comparison_with_sql.html)\n",
        "- [Other Pandas Comparisons](https://pandas.pydata.org/docs/getting_started/comparison/index.html)\n",
        "- [Intro to Pandas YouTube](https://www.youtube.com/watch?v=e60ItwlZTKM&ab_channel=JoeJames)\n",
        "  - This explains pandas in a much more succinct and accurate way than I can"
      ]
    },
    {
      "cell_type": "markdown",
      "metadata": {
        "id": "i5TFIqeJiCHy"
      },
      "source": [
        "## Testing Installation"
      ]
    },
    {
      "cell_type": "code",
      "execution_count": null,
      "metadata": {
        "id": "2phqwyMqiCHy"
      },
      "outputs": [],
      "source": [
        "import pandas as pd"
      ]
    }
  ],
  "metadata": {
    "colab": {
      "collapsed_sections": [],
      "name": "Copy of Week1.ipynb",
      "provenance": []
    },
    "interpreter": {
      "hash": "e5536dcff39019084073840e4bd2329c15250a25003f28fea8cd25b81d1e0b0b"
    },
    "kernelspec": {
      "display_name": "Python 3.8.5 64-bit ('base': conda)",
      "language": "python",
      "name": "python3"
    },
    "language_info": {
      "codemirror_mode": {
        "name": "ipython",
        "version": 3
      },
      "file_extension": ".py",
      "mimetype": "text/x-python",
      "name": "python",
      "nbconvert_exporter": "python",
      "pygments_lexer": "ipython3",
      "version": "3.8.5"
    },
    "orig_nbformat": 4
  },
  "nbformat": 4,
  "nbformat_minor": 0
}
